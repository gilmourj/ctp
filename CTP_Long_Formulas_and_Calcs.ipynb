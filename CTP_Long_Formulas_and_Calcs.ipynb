{
  "nbformat": 4,
  "nbformat_minor": 0,
  "metadata": {
    "colab": {
      "name": "Copy of [CTP] Long Formulas and Calcs (CTP)",
      "provenance": [],
      "collapsed_sections": [],
      "include_colab_link": true
    },
    "kernelspec": {
      "name": "python3",
      "display_name": "Python 3"
    }
  },
  "cells": [
    {
      "cell_type": "markdown",
      "metadata": {
        "id": "view-in-github",
        "colab_type": "text"
      },
      "source": [
        "<a href=\"https://colab.research.google.com/github/gilmourj/ctp/blob/master/CTP_Long_Formulas_and_Calcs.ipynb\" target=\"_parent\"><img src=\"https://colab.research.google.com/assets/colab-badge.svg\" alt=\"Open In Colab\"/></a>"
      ]
    },
    {
      "cell_type": "markdown",
      "metadata": {
        "id": "ck6vEGz450Oo"
      },
      "source": [
        "# CTP Publish Shift: Long-long-but-easy Formulas\n",
        "\n",
        "### How to use:\n",
        "Running a specific cell:  \n",
        "click the ▶️ (play) button text to the cell, or `ctrl+Enter` the cell\n",
        "\n",
        "Running the entire notebook:  \n",
        "\"Runtime\" menu -> \"Run all\", or `ctrl-F9`\n"
      ]
    },
    {
      "cell_type": "code",
      "metadata": {
        "id": "4k8wHegJSgNe",
        "colab": {
          "base_uri": "https://localhost:8080/",
          "height": 0
        },
        "outputId": "c42e4255-c453-4bec-84e7-82471532a6e5"
      },
      "source": [
        "# DE positives\n",
        "import pandas as pd\n",
        "from datetime import datetime \n",
        "print(\"Last Run\", datetime.now())\n",
        "df = pd.read_csv('https://myhealthycommunity.dhss.delaware.gov/locations/state/download_covid_19_data')\n",
        "df = df[df['Unit'] == 'tests'].set_index(['Year', 'Month', 'Day']).sort_index()\n",
        "df.loc[df.index.unique()[-3]][['Statistic', 'Value']]\n"
      ],
      "execution_count": 1,
      "outputs": [
        {
          "output_type": "stream",
          "text": [
            "Last Run 2021-02-15 17:17:11.714944\n"
          ],
          "name": "stdout"
        },
        {
          "output_type": "execute_result",
          "data": {
            "text/html": [
              "<div>\n",
              "<style scoped>\n",
              "    .dataframe tbody tr th:only-of-type {\n",
              "        vertical-align: middle;\n",
              "    }\n",
              "\n",
              "    .dataframe tbody tr th {\n",
              "        vertical-align: top;\n",
              "    }\n",
              "\n",
              "    .dataframe thead th {\n",
              "        text-align: right;\n",
              "    }\n",
              "</style>\n",
              "<table border=\"1\" class=\"dataframe\">\n",
              "  <thead>\n",
              "    <tr style=\"text-align: right;\">\n",
              "      <th></th>\n",
              "      <th></th>\n",
              "      <th></th>\n",
              "      <th>Statistic</th>\n",
              "      <th>Value</th>\n",
              "    </tr>\n",
              "    <tr>\n",
              "      <th>Year</th>\n",
              "      <th>Month</th>\n",
              "      <th>Day</th>\n",
              "      <th></th>\n",
              "      <th></th>\n",
              "    </tr>\n",
              "  </thead>\n",
              "  <tbody>\n",
              "    <tr>\n",
              "      <th rowspan=\"2\" valign=\"top\">2021</th>\n",
              "      <th rowspan=\"2\" valign=\"top\">2</th>\n",
              "      <th>11</th>\n",
              "      <td>Positive Tests</td>\n",
              "      <td>86579.0</td>\n",
              "    </tr>\n",
              "    <tr>\n",
              "      <th>11</th>\n",
              "      <td>Total Tests</td>\n",
              "      <td>1319220.0</td>\n",
              "    </tr>\n",
              "  </tbody>\n",
              "</table>\n",
              "</div>"
            ],
            "text/plain": [
              "                     Statistic      Value\n",
              "Year Month Day                           \n",
              "2021 2     11   Positive Tests    86579.0\n",
              "           11      Total Tests  1319220.0"
            ]
          },
          "metadata": {
            "tags": []
          },
          "execution_count": 1
        }
      ]
    },
    {
      "cell_type": "code",
      "metadata": {
        "id": "uTXDXCF06HYL",
        "colab": {
          "base_uri": "https://localhost:8080/"
        },
        "outputId": "0d9351ef-d164-4779-8cab-9d57bbb2c915"
      },
      "source": [
        "# HI PCR Test Encounters\n",
        "import pandas as pd\n",
        "import requests\n",
        "from datetime import datetime, timezone\n",
        "from pytz import timezone as tz  # replace with ZoneInfo once G upgrades to 3.9\n",
        "\n",
        "hi = pd.read_csv(\"https://public.tableau.com/views/EpiCurveApr4/CSVDownload.csv?:showVizHome=no\")\n",
        "print(hi.select_dtypes(exclude=['object']).sum())\n",
        "\n",
        "\n",
        "# HI updated time\n",
        "res = requests.get(\"https://services9.arcgis.com/aKxrz4vDVjfUwBWJ/arcgis/rest/services/HIEMA_TEST_DATA_PUBLIC_LATEST/FeatureServer/0/query?where=name%3D'State'&returnGeometry=false&outFields=*&orderByFields=reportdt desc&resultOffset=0&resultRecordCount=1&f=json\")\n",
        "updated = datetime.fromtimestamp(res.json()['features'][0]['attributes']['reportdt']/1000) # because ms\n",
        "# format we want: 12/27/2020 8:30:00\n",
        "print(\"\\nUpdate time: \", updated.replace(tzinfo=timezone.utc).astimezone(tz=tz(\"Pacific/Honolulu\")).strftime(\"%m/%d/%Y %H:%M:%S\"))\n"
      ],
      "execution_count": 2,
      "outputs": [
        {
          "output_type": "stream",
          "text": [
            "New Cases                  26021\n",
            "New Positive Tests         26354\n",
            "Total Test Encounters    1034740\n",
            "dtype: int64\n",
            "\n",
            "Update time:  02/12/2021 08:30:00\n"
          ],
          "name": "stdout"
        }
      ]
    },
    {
      "cell_type": "code",
      "metadata": {
        "id": "kd_vRxw1sM-X",
        "colab": {
          "base_uri": "https://localhost:8080/"
        },
        "outputId": "1351f52d-cb15-4970-9b97-9ae236bfd4af"
      },
      "source": [
        "# MA\n",
        "from io import StringIO, BytesIO\n",
        "from bs4 import BeautifulSoup\n",
        "import pandas as pd\n",
        "import re\n",
        "import requests\n",
        "import zipfile\n",
        "\n",
        "url = 'https://www.mass.gov/info-details/covid-19-response-reporting'\n",
        "req = requests.get(url)\n",
        "soup = BeautifulSoup(req.text, 'html.parser')\n",
        "a = soup.find('a', string=re.compile(\"COVID-19 Raw Data\"))\n",
        "link = \"https://www.mass.gov{}\".format(a['href'])\n",
        "print(\"Download link = \", link)\n",
        "\n",
        "res = requests.get(link)\n",
        "tabs = pd.read_excel(res.content, sheet_name=None)\n",
        "\n",
        "print(\"PCR Total People\")\n",
        "print(tabs['Testing2 (Report Date)']['Molecular Total'].iloc[-1], \"\\n\")\n",
        "\n",
        "df = tabs['TestingByDate (Test Date)'].filter(like=\"All Positive\")\n",
        "print(df.sum())\n",
        "\n",
        "# weekly report\n",
        "url = 'https://www.mass.gov/info-details/covid-19-response-reporting'\n",
        "req = requests.get(url)\n",
        "soup = BeautifulSoup(req.text, 'html.parser')\n",
        "a = soup.find('a', string=re.compile(\"Weekly Public Health Report - Raw\"))\n",
        "link = \"https://www.mass.gov{}\".format(a['href'])\n",
        "print(\"\\nWeekly link = \", link)\n",
        "res = requests.get(link)\n",
        "df = pd.read_excel(BytesIO(res.content), sheet_name='Antibody', parse_dates=['Test Date'], index_col='Test Date')\n",
        "print(df.sum())\n",
        "\n",
        "# ever hospitalized\n",
        "print('\\nEver Hospitalized')\n",
        "max_date = tabs['RaceEthnicityLast2Weeks']['Date'].max()\n",
        "tabs['RaceEthnicityLast2Weeks'][tabs['RaceEthnicityLast2Weeks']['Date'] == max_date].sum()"
      ],
      "execution_count": 3,
      "outputs": [
        {
          "output_type": "stream",
          "text": [
            "Download link =  https://www.mass.gov/doc/covid-19-raw-data-february-14-2021/download\n",
            "PCR Total People\n",
            "4758563 \n",
            "\n",
            "All Positive Molecular Tests                         633210.0\n",
            "All Positive Molecular Tests_Higher Ed ONLY           11809.0\n",
            "All Positive Molecular Tests_MA without Higher ED    469981.0\n",
            "dtype: float64\n",
            "\n",
            "Weekly link =  https://www.mass.gov/doc/weekly-public-health-report-raw-data-february-11-2021/download\n",
            "Positive Tests                           14572.0\n",
            "Total Tests                             151476.0\n",
            "Unnamed: 3                                   0.0\n",
            "DATA CURRENT AS OF 11:59PM ON 2/9/21         0.0\n",
            "dtype: float64\n",
            "\n",
            "Ever Hospitalized\n"
          ],
          "name": "stdout"
        },
        {
          "output_type": "execute_result",
          "data": {
            "text/plain": [
              "Race/Ethnicity        White, non-HispanicBlack or African American, ...\n",
              "All Cases                                                        548946\n",
              "Ever Hospitaltized                                                18859\n",
              "Deaths                                                            15207\n",
              "dtype: object"
            ]
          },
          "metadata": {
            "tags": []
          },
          "execution_count": 3
        }
      ]
    },
    {
      "cell_type": "code",
      "metadata": {
        "id": "0920HblLk3ql",
        "colab": {
          "base_uri": "https://localhost:8080/",
          "height": 0
        },
        "outputId": "bc911551-5725-45b1-ba1c-975bc7a44f4c"
      },
      "source": [
        "# ME \n",
        "import pandas as pd\n",
        "import requests\n",
        "from io import StringIO\n",
        "\n",
        "url = \"https://gateway.maine.gov/dhhs-apps/mecdc_covid/hospital_capacity.csv\"\n",
        "pd.read_csv(url, nrows=1).filter(like='COVID')"
      ],
      "execution_count": 4,
      "outputs": [
        {
          "output_type": "execute_result",
          "data": {
            "text/html": [
              "<div>\n",
              "<style scoped>\n",
              "    .dataframe tbody tr th:only-of-type {\n",
              "        vertical-align: middle;\n",
              "    }\n",
              "\n",
              "    .dataframe tbody tr th {\n",
              "        vertical-align: top;\n",
              "    }\n",
              "\n",
              "    .dataframe thead th {\n",
              "        text-align: right;\n",
              "    }\n",
              "</style>\n",
              "<table border=\"1\" class=\"dataframe\">\n",
              "  <thead>\n",
              "    <tr style=\"text-align: right;\">\n",
              "      <th></th>\n",
              "      <th>Hospitalized- Total COVID-19 Patients</th>\n",
              "      <th>Hospitalized- COVID-19 Patients In Critical Care</th>\n",
              "      <th>Hospitalized- COVID-19 Patients on Ventilators</th>\n",
              "    </tr>\n",
              "  </thead>\n",
              "  <tbody>\n",
              "    <tr>\n",
              "      <th>0</th>\n",
              "      <td>94</td>\n",
              "      <td>25</td>\n",
              "      <td>10</td>\n",
              "    </tr>\n",
              "  </tbody>\n",
              "</table>\n",
              "</div>"
            ],
            "text/plain": [
              "   Hospitalized- Total COVID-19 Patients  ...  Hospitalized- COVID-19 Patients on Ventilators\n",
              "0                                     94  ...                                              10\n",
              "\n",
              "[1 rows x 3 columns]"
            ]
          },
          "metadata": {
            "tags": []
          },
          "execution_count": 4
        }
      ]
    },
    {
      "cell_type": "markdown",
      "metadata": {
        "id": "idoaTyjhZH00"
      },
      "source": [
        ""
      ]
    },
    {
      "cell_type": "code",
      "metadata": {
        "id": "BWch3JJp_muA",
        "colab": {
          "base_uri": "https://localhost:8080/"
        },
        "outputId": "1269cb43-7bd8-446c-9323-ff9d76af2049"
      },
      "source": [
        "# MI Testing\n",
        "import pandas as pd\n",
        "import requests\n",
        "from bs4 import BeautifulSoup\n",
        "\n",
        "url = 'https://www.michigan.gov/coronavirus/0,9753,7-406-98163_98173---,00.html'\n",
        "\n",
        "req = requests.get(url)\n",
        "soup = BeautifulSoup(req.text, 'html.parser')\n",
        "a = soup.find('a', string=\"Diagnostic Tests by Result and County\")\n",
        "mi_link = \"https://www.michigan.gov/{}\".format(a['href'])\n",
        "print(\"Link = \", mi_link)\n",
        "\n",
        "mi = pd.read_excel(mi_link).drop(columns=['COUNTY'])\n",
        "mi.sum()"
      ],
      "execution_count": 5,
      "outputs": [
        {
          "output_type": "stream",
          "text": [
            "Link =  https://www.michigan.gov//documents/coronavirus/Diagnostic_Tests_by_Result_and_County_2021-02-13_716333_7.xlsx\n"
          ],
          "name": "stdout"
        },
        {
          "output_type": "execute_result",
          "data": {
            "text/plain": [
              "Negative    9210589\n",
              "Positive     727760\n",
              "Total       9938349\n",
              "dtype: int64"
            ]
          },
          "metadata": {
            "tags": []
          },
          "execution_count": 5
        }
      ]
    },
    {
      "cell_type": "code",
      "metadata": {
        "id": "9OSvTRWaCVMe",
        "colab": {
          "base_uri": "https://localhost:8080/"
        },
        "outputId": "2f5ffbbe-4f88-4be3-8dc0-1e925423d7b4"
      },
      "source": [
        "# NC Antigen tests\n",
        "import pandas as pd\n",
        "nc = pd.read_csv(\"https://public.tableau.com/views/NCDHHS_COVID-19_DataDownload/DailyTestingMetrics.csv\", parse_dates=['Date'], index_col='Date', thousands=',')\n",
        "nc.pivot(columns='Measure Names').sum().astype('int64')"
      ],
      "execution_count": 6,
      "outputs": [
        {
          "output_type": "execute_result",
          "data": {
            "text/plain": [
              "                Measure Names           \n",
              "Measure Values  Antigen Test                 653807\n",
              "                Daily Tests Total           9623364\n",
              "                Molecular Test              6138563\n",
              "                Positive Test Percentage         26\n",
              "dtype: int64"
            ]
          },
          "metadata": {
            "tags": []
          },
          "execution_count": 6
        }
      ]
    },
    {
      "cell_type": "code",
      "metadata": {
        "id": "EbhBQp-s8Gsf",
        "colab": {
          "base_uri": "https://localhost:8080/"
        },
        "outputId": "75d47ac8-9cab-4071-b3b0-3cec22f26eae"
      },
      "source": [
        "# ND Negatives + Testing\n",
        "import pandas as pd\n",
        "import requests\n",
        "from io import StringIO\n",
        "\n",
        "url = \"https://static.dwcdn.net/data/NVwou.csv\"\n",
        "headers = {\"User-Agent\": \"Mozilla/5.0 (X11; Ubuntu; Linux x86_64; rv:79.0) Gecko/20100101 Firefox/79.0\"}\n",
        "req = requests.get(url, headers=headers)\n",
        "print(pd.read_csv(StringIO(req.text)).filter(like='Negative').sum())\n",
        "\n",
        "print(\"\\n\")\n",
        "print(\"Testing Data\")\n",
        "df = pd.read_csv('https://www.health.nd.gov/sites/www/files/documents/Files/MSS/coronavirus/charts-data/PublicUseData.csv')\n",
        "df.filter(like='tests').sum()"
      ],
      "execution_count": 7,
      "outputs": [
        {
          "output_type": "stream",
          "text": [
            "Total Negative    301542\n",
            "dtype: int64\n",
            "\n",
            "\n",
            "Testing Data\n"
          ],
          "name": "stdout"
        },
        {
          "output_type": "execute_result",
          "data": {
            "text/plain": [
              "Total tests (new people)                          399389.0\n",
              "Total tests (susceptible test encounters)        1478894.0\n",
              "Total PCR tests (susceptible test encounters)    1379342.0\n",
              "Total Ag tests (susceptible test encounters)       99552.0\n",
              "Total tests (specimens)                          1592131.0\n",
              "Total PCR tests (specimens)                      1473877.0\n",
              "Total Ag tests (specimens)                        118254.0\n",
              "dtype: float64"
            ]
          },
          "metadata": {
            "tags": []
          },
          "execution_count": 7
        }
      ]
    },
    {
      "cell_type": "code",
      "metadata": {
        "colab": {
          "base_uri": "https://localhost:8080/"
        },
        "id": "pioGD6yzNA0v",
        "outputId": "cb331dd7-63ed-4d32-d469-12f0e552d544"
      },
      "source": [
        "# OH testing\n",
        "import requests\n",
        "import pandas as pd\n",
        "\n",
        "key_url = \"https://data.ohio.gov/apigateway-secure/data-portal/download-file/cba54974-06ab-4ec8-92bc-62a83b40614e?key=2b4420ffc0c5885f7cd42a963cfda0b489a9a6dff49461e1a921b355ee0424c029cf4ff2ee80c8c82ef901d818d71f9def8cba3651f6595bd6a07e1477438b97bbc5d7ccf7b5b66c154779ce7a4f5b83\"\n",
        "testing_url = \"https://data.ohio.gov/apigateway-secure/data-portal/download-file/2ad05e55-2b1a-486c-bc07-ecb3be682d29?key=e42285cfa9a0b157b3f1bdaadcac509c44db4cfa0f90735e12b770acb1307b918cee14d5d8e4d4187eb2cab71fc9233bda8ee3eed924b8a3fad33aaa6c8915fe6f3de6f82ad4b995c2359b168ed88fa9\"\n",
        "url = testing_url\n",
        "\n",
        "pd.read_csv(requests.get(url).json()['url']).filter(like='Daily').sum()"
      ],
      "execution_count": 8,
      "outputs": [
        {
          "output_type": "execute_result",
          "data": {
            "text/plain": [
              "Confirmatory Lab Total Tested (Daily)                        9587475.000\n",
              "Confirmatory Lab Total Positive (Daily)                       839477.000\n",
              "Confirmatory Lab Percent Positive (Daily)                         28.020\n",
              "Presumptive Lab Total Tested (Daily)                         1493863.000\n",
              "Presumptive Lab Total Positive (Daily)                         78452.000\n",
              "Presumptive Lab Percent Positive (Daily)                           7.711\n",
              "Confirmatory and Presumptive Lab Total Positive (Daily)       731176.000\n",
              "Confirmatory and Presumptive Lab Total Tested (Daily)        7321430.000\n",
              "Confirmatory and Presumptive Lab Percent Positive (Daily)         12.039\n",
              "dtype: float64"
            ]
          },
          "metadata": {
            "tags": []
          },
          "execution_count": 8
        }
      ]
    },
    {
      "cell_type": "code",
      "metadata": {
        "id": "LLEuQsoO-kiq",
        "colab": {
          "base_uri": "https://localhost:8080/"
        },
        "outputId": "daddd546-2c23-4a15-9a93-aaf455374e1b"
      },
      "source": [
        "_# TX\n",
        "import pandas as pd\n",
        "import requests\n",
        "from datetime import datetime, timedelta\n",
        "\n",
        "url = 'https://www.dshs.texas.gov/coronavirus/TexasCOVID-19HospitalizationsOverTimebyTSA.xlsx'\n",
        "df = pd.read_excel(url, sheet_name='COVID-19 ICU', skiprows=2)\n",
        "print(\"ICU\")\n",
        "print(df.loc[df[df.columns[0]] == 'Total'][df.columns[-1]])\n",
        "\n",
        "\n",
        "# PCR Positives\n",
        "res = requests.get('https://services5.arcgis.com/ACaLB9ifngzawspq/arcgis/rest/services/TX_DSHS_COVID19_TestData_Service/FeatureServer/6/query?where=1%3D1&outStatistics=%5B%7B%27statisticType%27%3A+%27sum%27%2C+%27onStatisticField%27%3A+%27NewPositive%27%7D%2C+%7B%27statisticType%27%3A+%27sum%27%2C+%27onStatisticField%27%3A+%27OldPositive%27%7D%5D&f=json')\n",
        "print(\"\\nPCR Positives\")\n",
        "print(sum(res.json()['features'][0]['attributes'].values()))\n",
        "\n",
        "res = requests.get('https://services5.arcgis.com/ACaLB9ifngzawspq/ArcGIS/rest/services/TX_DSHS_COVID19_Cases_Service/FeatureServer/2/query?where=1%3D1&outFields=%2A&orderByFields=Date+desc&resultRecordCount=1&f=json')\n",
        "print(\"\\nCases Timestamp (as-of)\")\n",
        "cases_date = datetime.fromtimestamp(res.json()['features'][0]['attributes']['Date']/1000)\n",
        "# convent to TX time through trickery (from UTC)\n",
        "print(cases_date - timedelta(hours=6))\n",
        "\n",
        "# Antigen Positives\n",
        "res = requests.get('https://services5.arcgis.com/ACaLB9ifngzawspq/ArcGIS/rest/services/TX_DSHS_COVID19_TestData_Service/FeatureServer/3/query?where=1%3D1&objectIds=&time=&resultType=none&outFields=*&returnIdsOnly=false&returnUniqueIdsOnly=false&returnCountOnly=false&returnDistinctValues=false&cacheHint=false&orderByFields=&groupByFieldsForStatistics=&outStatistics=&having=&resultOffset=&resultRecordCount=&sqlFormat=none&f=json')\n",
        "print(\"\\nAntigen Positives\")\n",
        "print(res.json()['features'][5]['attributes']['Count_'])\n",
        "\n",
        "# Antibody Positives\n",
        "print(\"\\nAntibody Positives\")\n",
        "print(res.json()['features'][2]['attributes']['Count_'])"
      ],
      "execution_count": 9,
      "outputs": [
        {
          "output_type": "stream",
          "text": [
            "ICU\n",
            "22    2473.0\n",
            "Name: 2021-02-13, dtype: float64\n",
            "\n",
            "PCR Positives\n",
            "2521479\n",
            "\n",
            "Cases Timestamp (as-of)\n",
            "2021-02-14 00:00:00\n",
            "\n",
            "Antigen Positives\n",
            "188051\n",
            "\n",
            "Antibody Positives\n",
            "141470\n"
          ],
          "name": "stdout"
        }
      ]
    },
    {
      "cell_type": "code",
      "metadata": {
        "id": "EIa0qeGfCY2f",
        "colab": {
          "base_uri": "https://localhost:8080/"
        },
        "outputId": "532cd37a-a66a-475d-b66f-a45b4ed17652"
      },
      "source": [
        "# UT \n",
        "from io import StringIO, BytesIO\n",
        "import pandas as pd\n",
        "import requests\n",
        "import zipfile\n",
        "\n",
        "url = 'https://coronavirus-dashboard.utah.gov/Utah_COVID19_data.zip'\n",
        "res = requests.get(url)\n",
        "zipdata = BytesIO(res.content)\n",
        "zip = zipfile.ZipFile(zipdata, 'r')\n",
        "for zf in zip.filelist:\n",
        "  if zf.filename.startswith('Overview_Total Tests by Date'):\n",
        "    # yay, the testing file\n",
        "    title = 'Tests'\n",
        "  elif zf.filename.startswith('Overview_Number of People Tested by Date'):\n",
        "    title = 'People'\n",
        "  else:\n",
        "    title = None\n",
        "  if title:\n",
        "    title = \"Metrics for {} (from {})\".format(title, zf.filename)\n",
        "    print(title, \"\\n\"+\"=\"*len(title))\n",
        "    df = pd.read_csv(zip.open(zf.filename)).drop(columns=[' Total Daily Tests', 'Total Positive Tests', 'Daily People Tested', 'Daily Positive Tests'], errors=\"ignore\")\n",
        "    print(df.groupby(['Test Type', 'Result']).sum())"
      ],
      "execution_count": 10,
      "outputs": [
        {
          "output_type": "stream",
          "text": [
            "Metrics for People (from Overview_Number of People Tested by Date_2021-02-14.csv) \n",
            "=================================================================================\n",
            "                              Count\n",
            "Test Type         Result           \n",
            "Antigen by DFA/IF NEGATIVE   273742\n",
            "                  POSITIVE    53295\n",
            "PCR/amplification NEGATIVE  1487819\n",
            "                  POSITIVE   307341\n",
            "Metrics for Tests (from Overview_Total Tests by Date_2021-02-14.csv) \n",
            "====================================================================\n",
            "                              Count\n",
            "Test Type         Result           \n",
            "Antigen by DFA/IF NEGATIVE   799368\n",
            "                  POSITIVE    55612\n",
            "PCR/amplification NEGATIVE  2404263\n",
            "                  POSITIVE   335235\n"
          ],
          "name": "stdout"
        }
      ]
    },
    {
      "cell_type": "code",
      "metadata": {
        "colab": {
          "base_uri": "https://localhost:8080/"
        },
        "id": "Dj-bAOzFZUES",
        "outputId": "642aee7d-c359-45af-eda0-2cb5db0c2143"
      },
      "source": [
        "# WA\n",
        "import pandas as pd\n",
        "wa_link = 'https://www.doh.wa.gov/Portals/1/Documents/1600/coronavirus/data-tables/PUBLIC_Tests_by_Specimen_Collection.xlsx'\n",
        "print(\"Link = \", wa_link)\n",
        "\n",
        "wa = pd.read_excel(wa_link, sheet_name = 'State').filter(regex='(Positive|Negative)').drop(columns='Positive tests (%)')\n",
        "wa.columns = [x.split()[0] for x in wa.columns]\n",
        "wa.groupby(wa.columns.values, axis=1).sum().sum()"
      ],
      "execution_count": 11,
      "outputs": [
        {
          "output_type": "stream",
          "text": [
            "Link =  https://www.doh.wa.gov/Portals/1/Documents/1600/coronavirus/data-tables/PUBLIC_Tests_by_Specimen_Collection.xlsx\n"
          ],
          "name": "stdout"
        },
        {
          "output_type": "execute_result",
          "data": {
            "text/plain": [
              "Negative    4584757\n",
              "Positive     311237\n",
              "dtype: int64"
            ]
          },
          "metadata": {
            "tags": []
          },
          "execution_count": 11
        }
      ]
    },
    {
      "cell_type": "code",
      "metadata": {
        "id": "VjTPEvO37JfF",
        "colab": {
          "base_uri": "https://localhost:8080/"
        },
        "outputId": "f5ca0f0d-6fab-4aec-9f7e-1e5dc800607f"
      },
      "source": [
        "# WI PCR Testing Encounters\n",
        "import pandas as pd\n",
        "from datetime import datetime\n",
        "print(\"Last run at: \", datetime.now().isoformat())\n",
        "wi = pd.read_csv(\"https://bi.wisconsin.gov/t/DHS/views/PercentPositivebyTestPersonandaComparisonandTestCapacity/TestCapacityDashboard.csv\", thousands=\",\")\n",
        "wi[wi['Measure Names'] == 'Total people tested daily']['Number of Tests'].sum()"
      ],
      "execution_count": 12,
      "outputs": [
        {
          "output_type": "stream",
          "text": [
            "Last run at:  2021-02-15T17:17:37.420074\n"
          ],
          "name": "stdout"
        },
        {
          "output_type": "execute_result",
          "data": {
            "text/plain": [
              "6500368"
            ]
          },
          "metadata": {
            "tags": []
          },
          "execution_count": 12
        }
      ]
    }
  ]
}